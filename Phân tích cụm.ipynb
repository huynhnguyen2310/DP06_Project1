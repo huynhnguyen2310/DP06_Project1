{
 "cells": [
  {
   "cell_type": "code",
   "execution_count": 1,
   "metadata": {},
   "outputs": [],
   "source": [
    "import numpy as np\n",
    "import matplotlib.pyplot as plt\n",
    "import pandas as pd\n",
    "from sklearn.cluster import KMeans\n",
    "from sklearn.preprocessing import StandardScaler\n",
    "import seaborn as sns"
   ]
  },
  {
   "cell_type": "code",
   "execution_count": 2,
   "metadata": {},
   "outputs": [
    {
     "data": {
      "text/html": [
       "<div>\n",
       "<style scoped>\n",
       "    .dataframe tbody tr th:only-of-type {\n",
       "        vertical-align: middle;\n",
       "    }\n",
       "\n",
       "    .dataframe tbody tr th {\n",
       "        vertical-align: top;\n",
       "    }\n",
       "\n",
       "    .dataframe thead th {\n",
       "        text-align: right;\n",
       "    }\n",
       "</style>\n",
       "<table border=\"1\" class=\"dataframe\">\n",
       "  <thead>\n",
       "    <tr style=\"text-align: right;\">\n",
       "      <th></th>\n",
       "      <th>OrderDate</th>\n",
       "      <th>StockDate</th>\n",
       "      <th>OrderNumber</th>\n",
       "      <th>ProductKey</th>\n",
       "      <th>CustomerKey</th>\n",
       "      <th>TerritoryKey</th>\n",
       "      <th>OrderLineItem</th>\n",
       "      <th>OrderQuantity</th>\n",
       "      <th>ProductSubcategoryKey</th>\n",
       "      <th>ProductSKU</th>\n",
       "      <th>ModelName</th>\n",
       "      <th>ProductColor</th>\n",
       "      <th>ProductSize</th>\n",
       "      <th>ProductStyle</th>\n",
       "      <th>ProductCost</th>\n",
       "      <th>ProductPrice</th>\n",
       "      <th>TotalRevenue</th>\n",
       "    </tr>\n",
       "  </thead>\n",
       "  <tbody>\n",
       "    <tr>\n",
       "      <th>0</th>\n",
       "      <td>1/1/2020</td>\n",
       "      <td>9/21/2019</td>\n",
       "      <td>SO45080</td>\n",
       "      <td>332</td>\n",
       "      <td>14657</td>\n",
       "      <td>1</td>\n",
       "      <td>1</td>\n",
       "      <td>1</td>\n",
       "      <td>2</td>\n",
       "      <td>BK-R50B-58</td>\n",
       "      <td>Road-650</td>\n",
       "      <td>Black</td>\n",
       "      <td>58</td>\n",
       "      <td>U</td>\n",
       "      <td>413.1463</td>\n",
       "      <td>699.0982</td>\n",
       "      <td>699.0982</td>\n",
       "    </tr>\n",
       "    <tr>\n",
       "      <th>1</th>\n",
       "      <td>1/1/2020</td>\n",
       "      <td>12/5/2019</td>\n",
       "      <td>SO45079</td>\n",
       "      <td>312</td>\n",
       "      <td>29255</td>\n",
       "      <td>4</td>\n",
       "      <td>1</td>\n",
       "      <td>1</td>\n",
       "      <td>2</td>\n",
       "      <td>BK-R93R-48</td>\n",
       "      <td>Road-150</td>\n",
       "      <td>Red</td>\n",
       "      <td>48</td>\n",
       "      <td>U</td>\n",
       "      <td>2171.2942</td>\n",
       "      <td>3578.2700</td>\n",
       "      <td>3578.2700</td>\n",
       "    </tr>\n",
       "    <tr>\n",
       "      <th>2</th>\n",
       "      <td>1/1/2020</td>\n",
       "      <td>10/29/2019</td>\n",
       "      <td>SO45082</td>\n",
       "      <td>350</td>\n",
       "      <td>11455</td>\n",
       "      <td>9</td>\n",
       "      <td>1</td>\n",
       "      <td>1</td>\n",
       "      <td>1</td>\n",
       "      <td>BK-M82B-44</td>\n",
       "      <td>Mountain-100</td>\n",
       "      <td>Black</td>\n",
       "      <td>44</td>\n",
       "      <td>U</td>\n",
       "      <td>1898.0944</td>\n",
       "      <td>3374.9900</td>\n",
       "      <td>3374.9900</td>\n",
       "    </tr>\n",
       "    <tr>\n",
       "      <th>3</th>\n",
       "      <td>1/1/2020</td>\n",
       "      <td>11/16/2019</td>\n",
       "      <td>SO45081</td>\n",
       "      <td>338</td>\n",
       "      <td>26782</td>\n",
       "      <td>6</td>\n",
       "      <td>1</td>\n",
       "      <td>1</td>\n",
       "      <td>2</td>\n",
       "      <td>BK-R50B-44</td>\n",
       "      <td>Road-650</td>\n",
       "      <td>Black</td>\n",
       "      <td>44</td>\n",
       "      <td>U</td>\n",
       "      <td>413.1463</td>\n",
       "      <td>699.0982</td>\n",
       "      <td>699.0982</td>\n",
       "    </tr>\n",
       "    <tr>\n",
       "      <th>4</th>\n",
       "      <td>1/2/2020</td>\n",
       "      <td>12/15/2019</td>\n",
       "      <td>SO45083</td>\n",
       "      <td>312</td>\n",
       "      <td>14947</td>\n",
       "      <td>10</td>\n",
       "      <td>1</td>\n",
       "      <td>1</td>\n",
       "      <td>2</td>\n",
       "      <td>BK-R93R-48</td>\n",
       "      <td>Road-150</td>\n",
       "      <td>Red</td>\n",
       "      <td>48</td>\n",
       "      <td>U</td>\n",
       "      <td>2171.2942</td>\n",
       "      <td>3578.2700</td>\n",
       "      <td>3578.2700</td>\n",
       "    </tr>\n",
       "  </tbody>\n",
       "</table>\n",
       "</div>"
      ],
      "text/plain": [
       "  OrderDate   StockDate OrderNumber  ProductKey  CustomerKey  TerritoryKey  \\\n",
       "0  1/1/2020   9/21/2019     SO45080         332        14657             1   \n",
       "1  1/1/2020   12/5/2019     SO45079         312        29255             4   \n",
       "2  1/1/2020  10/29/2019     SO45082         350        11455             9   \n",
       "3  1/1/2020  11/16/2019     SO45081         338        26782             6   \n",
       "4  1/2/2020  12/15/2019     SO45083         312        14947            10   \n",
       "\n",
       "   OrderLineItem  OrderQuantity  ProductSubcategoryKey  ProductSKU  \\\n",
       "0              1              1                      2  BK-R50B-58   \n",
       "1              1              1                      2  BK-R93R-48   \n",
       "2              1              1                      1  BK-M82B-44   \n",
       "3              1              1                      2  BK-R50B-44   \n",
       "4              1              1                      2  BK-R93R-48   \n",
       "\n",
       "      ModelName ProductColor ProductSize ProductStyle  ProductCost  \\\n",
       "0      Road-650        Black          58            U     413.1463   \n",
       "1      Road-150          Red          48            U    2171.2942   \n",
       "2  Mountain-100        Black          44            U    1898.0944   \n",
       "3      Road-650        Black          44            U     413.1463   \n",
       "4      Road-150          Red          48            U    2171.2942   \n",
       "\n",
       "   ProductPrice  TotalRevenue  \n",
       "0      699.0982      699.0982  \n",
       "1     3578.2700     3578.2700  \n",
       "2     3374.9900     3374.9900  \n",
       "3      699.0982      699.0982  \n",
       "4     3578.2700     3578.2700  "
      ]
     },
     "execution_count": 2,
     "metadata": {},
     "output_type": "execute_result"
    }
   ],
   "source": [
    "data = pd.read_csv(r\"C:\\Users\\huynh\\Downloads\\Dự án 1\\Data_Predict.csv\")\n",
    "data.head(5)"
   ]
  },
  {
   "cell_type": "code",
   "execution_count": 3,
   "metadata": {},
   "outputs": [
    {
     "data": {
      "text/plain": [
       "OrderDate                 object\n",
       "StockDate                 object\n",
       "OrderNumber               object\n",
       "ProductKey                 int64\n",
       "CustomerKey                int64\n",
       "TerritoryKey               int64\n",
       "OrderLineItem              int64\n",
       "OrderQuantity              int64\n",
       "ProductSubcategoryKey      int64\n",
       "ProductSKU                object\n",
       "ModelName                 object\n",
       "ProductColor              object\n",
       "ProductSize               object\n",
       "ProductStyle              object\n",
       "ProductCost              float64\n",
       "ProductPrice             float64\n",
       "TotalRevenue             float64\n",
       "dtype: object"
      ]
     },
     "execution_count": 3,
     "metadata": {},
     "output_type": "execute_result"
    }
   ],
   "source": [
    "data.dtypes"
   ]
  },
  {
   "cell_type": "code",
   "execution_count": 4,
   "metadata": {},
   "outputs": [],
   "source": [
    "data['OrderDate'] = data['OrderDate'].astype('datetime64[s]')"
   ]
  },
  {
   "cell_type": "code",
   "execution_count": 5,
   "metadata": {},
   "outputs": [],
   "source": [
    "data['OrderNumber'] = data['OrderNumber'].astype(str)"
   ]
  },
  {
   "cell_type": "code",
   "execution_count": 6,
   "metadata": {},
   "outputs": [
    {
     "data": {
      "text/plain": [
       "OrderDate                datetime64[s]\n",
       "StockDate                       object\n",
       "OrderNumber                     object\n",
       "ProductKey                       int64\n",
       "CustomerKey                      int64\n",
       "TerritoryKey                     int64\n",
       "OrderLineItem                    int64\n",
       "OrderQuantity                    int64\n",
       "ProductSubcategoryKey            int64\n",
       "ProductSKU                      object\n",
       "ModelName                       object\n",
       "ProductColor                    object\n",
       "ProductSize                     object\n",
       "ProductStyle                    object\n",
       "ProductCost                    float64\n",
       "ProductPrice                   float64\n",
       "TotalRevenue                   float64\n",
       "dtype: object"
      ]
     },
     "execution_count": 6,
     "metadata": {},
     "output_type": "execute_result"
    }
   ],
   "source": [
    "data.dtypes"
   ]
  },
  {
   "cell_type": "markdown",
   "metadata": {},
   "source": [
    "Đề xuất đặc trưng cho phân cụm:\n",
    "Recency: Số ngày kể từ lần mua gần nhất.\n",
    "Frequency: Số lần mua hàng (số hóa đơn).\n",
    "Monetary: Tổng giá trị đơn hàng (Quantity × UnitPrice)."
   ]
  },
  {
   "cell_type": "code",
   "execution_count": 7,
   "metadata": {},
   "outputs": [],
   "source": [
    "current_date = data['OrderDate'].max()"
   ]
  },
  {
   "cell_type": "code",
   "execution_count": 8,
   "metadata": {},
   "outputs": [],
   "source": [
    "rfm = data.groupby('CustomerKey').agg({\n",
    "    'OrderDate': lambda x: (current_date - x.max()).days,\n",
    "    'OrderNumber': 'count',\n",
    "    'OrderQuantity': lambda x: (x * data.loc[x.index, 'ProductPrice']).sum()\n",
    "}).reset_index()"
   ]
  },
  {
   "cell_type": "code",
   "execution_count": 9,
   "metadata": {},
   "outputs": [],
   "source": [
    "rfm.columns = ['CustomerKey', 'Recency', 'Frequency', 'Monetary']\n",
    "rfm = rfm[rfm > 0]"
   ]
  },
  {
   "cell_type": "code",
   "execution_count": 10,
   "metadata": {},
   "outputs": [],
   "source": [
    "rfm = rfm.dropna()\n"
   ]
  },
  {
   "cell_type": "code",
   "execution_count": 11,
   "metadata": {},
   "outputs": [],
   "source": [
    "scaler = StandardScaler()\n",
    "scaler_data = scaler.fit_transform(rfm[['Recency', 'Frequency', 'Monetary']])\n"
   ]
  },
  {
   "cell_type": "code",
   "execution_count": 12,
   "metadata": {},
   "outputs": [],
   "source": [
    "kmean = KMeans(n_clusters= 3, random_state= 50)\n",
    "rfm['Cluster']  = kmean.fit_predict(scaler_data)"
   ]
  },
  {
   "cell_type": "code",
   "execution_count": 13,
   "metadata": {},
   "outputs": [
    {
     "data": {
      "text/html": [
       "<div>\n",
       "<style scoped>\n",
       "    .dataframe tbody tr th:only-of-type {\n",
       "        vertical-align: middle;\n",
       "    }\n",
       "\n",
       "    .dataframe tbody tr th {\n",
       "        vertical-align: top;\n",
       "    }\n",
       "\n",
       "    .dataframe thead th {\n",
       "        text-align: right;\n",
       "    }\n",
       "</style>\n",
       "<table border=\"1\" class=\"dataframe\">\n",
       "  <thead>\n",
       "    <tr style=\"text-align: right;\">\n",
       "      <th></th>\n",
       "      <th>CustomerKey</th>\n",
       "      <th>Recency</th>\n",
       "      <th>Frequency</th>\n",
       "      <th>Monetary</th>\n",
       "      <th>Cluster</th>\n",
       "    </tr>\n",
       "  </thead>\n",
       "  <tbody>\n",
       "    <tr>\n",
       "      <th>0</th>\n",
       "      <td>11000</td>\n",
       "      <td>238.0</td>\n",
       "      <td>7</td>\n",
       "      <td>4656.3896</td>\n",
       "      <td>0</td>\n",
       "    </tr>\n",
       "    <tr>\n",
       "      <th>1</th>\n",
       "      <td>11001</td>\n",
       "      <td>18.0</td>\n",
       "      <td>10</td>\n",
       "      <td>2821.2122</td>\n",
       "      <td>0</td>\n",
       "    </tr>\n",
       "    <tr>\n",
       "      <th>2</th>\n",
       "      <td>11002</td>\n",
       "      <td>307.0</td>\n",
       "      <td>3</td>\n",
       "      <td>4466.8124</td>\n",
       "      <td>0</td>\n",
       "    </tr>\n",
       "    <tr>\n",
       "      <th>3</th>\n",
       "      <td>11003</td>\n",
       "      <td>231.0</td>\n",
       "      <td>8</td>\n",
       "      <td>4532.9866</td>\n",
       "      <td>0</td>\n",
       "    </tr>\n",
       "    <tr>\n",
       "      <th>4</th>\n",
       "      <td>11004</td>\n",
       "      <td>240.0</td>\n",
       "      <td>5</td>\n",
       "      <td>4568.0838</td>\n",
       "      <td>0</td>\n",
       "    </tr>\n",
       "  </tbody>\n",
       "</table>\n",
       "</div>"
      ],
      "text/plain": [
       "   CustomerKey  Recency  Frequency   Monetary  Cluster\n",
       "0        11000    238.0          7  4656.3896        0\n",
       "1        11001     18.0         10  2821.2122        0\n",
       "2        11002    307.0          3  4466.8124        0\n",
       "3        11003    231.0          8  4532.9866        0\n",
       "4        11004    240.0          5  4568.0838        0"
      ]
     },
     "execution_count": 13,
     "metadata": {},
     "output_type": "execute_result"
    }
   ],
   "source": [
    "rfm.head(5)"
   ]
  },
  {
   "cell_type": "code",
   "execution_count": 14,
   "metadata": {},
   "outputs": [
    {
     "data": {
      "text/html": [
       "<div>\n",
       "<style scoped>\n",
       "    .dataframe tbody tr th:only-of-type {\n",
       "        vertical-align: middle;\n",
       "    }\n",
       "\n",
       "    .dataframe tbody tr th {\n",
       "        vertical-align: top;\n",
       "    }\n",
       "\n",
       "    .dataframe thead th {\n",
       "        text-align: right;\n",
       "    }\n",
       "</style>\n",
       "<table border=\"1\" class=\"dataframe\">\n",
       "  <thead>\n",
       "    <tr style=\"text-align: right;\">\n",
       "      <th></th>\n",
       "      <th>CustomerKey</th>\n",
       "      <th>Recency</th>\n",
       "      <th>Frequency</th>\n",
       "      <th>Monetary</th>\n",
       "    </tr>\n",
       "    <tr>\n",
       "      <th>Cluster</th>\n",
       "      <th></th>\n",
       "      <th></th>\n",
       "      <th></th>\n",
       "      <th></th>\n",
       "    </tr>\n",
       "  </thead>\n",
       "  <tbody>\n",
       "    <tr>\n",
       "      <th>0</th>\n",
       "      <td>16644.593740</td>\n",
       "      <td>131.922389</td>\n",
       "      <td>5.366337</td>\n",
       "      <td>4751.505303</td>\n",
       "    </tr>\n",
       "    <tr>\n",
       "      <th>1</th>\n",
       "      <td>20447.356523</td>\n",
       "      <td>83.059199</td>\n",
       "      <td>2.936340</td>\n",
       "      <td>638.574904</td>\n",
       "    </tr>\n",
       "    <tr>\n",
       "      <th>2</th>\n",
       "      <td>21535.133670</td>\n",
       "      <td>278.118350</td>\n",
       "      <td>2.473737</td>\n",
       "      <td>783.691692</td>\n",
       "    </tr>\n",
       "  </tbody>\n",
       "</table>\n",
       "</div>"
      ],
      "text/plain": [
       "          CustomerKey     Recency  Frequency     Monetary\n",
       "Cluster                                                  \n",
       "0        16644.593740  131.922389   5.366337  4751.505303\n",
       "1        20447.356523   83.059199   2.936340   638.574904\n",
       "2        21535.133670  278.118350   2.473737   783.691692"
      ]
     },
     "execution_count": 14,
     "metadata": {},
     "output_type": "execute_result"
    }
   ],
   "source": [
    "cluster_summmary = rfm.groupby('Cluster').mean()\n",
    "cluster_summmary"
   ]
  },
  {
   "cell_type": "code",
   "execution_count": 25,
   "metadata": {},
   "outputs": [],
   "source": [
    "customer = rfm[rfm['Cluster'] == 1].sort_values(by='Monetary', ascending= False).head(10)"
   ]
  },
  {
   "cell_type": "code",
   "execution_count": null,
   "metadata": {},
   "outputs": [
    {
     "data": {
      "image/png": "[encoded data removed]",
      "text/plain": [
       "<Figure size 1000x600 with 1 Axes>"
      ]
     },
     "metadata": {},
     "output_type": "display_data"
    }
   ],
   "source": [
    "\n",
    "plt.figure(figsize=(10, 6))\n",
    "bars = plt.bar(customer['CustomerKey'].astype(str), customer['Monetary'], color='skyblue')\n",
    "\n",
    "\n",
    "for bar in bars:\n",
    "    yval = bar.get_height() \n",
    "    plt.text(bar.get_x() + bar.get_width() / 2, yval + 10, f'{yval:.2f}', ha='center', va='bottom', fontsize=10)\n",
    "\n",
    "plt.xlabel('Customer Key')\n",
    "plt.ylabel('Monetary Value')\n",
    "plt.title('Top 10 khách hàng thuộc cụm thứ 1')\n",
    "plt.xticks(rotation=45)\n",
    "plt.show()"
   ]
  }
 ],
 "metadata": {
  "kernelspec": {
   "display_name": "base",
   "language": "python",
   "name": "python3"
  },
  "language_info": {
   "codemirror_mode": {
    "name": "ipython",
    "version": 3
   },
   "file_extension": ".py",
   "mimetype": "text/x-python",
   "name": "python",
   "nbconvert_exporter": "python",
   "pygments_lexer": "ipython3",
   "version": "3.12.4"
  }
 },
 "nbformat": 4,
 "nbformat_minor": 2
}
