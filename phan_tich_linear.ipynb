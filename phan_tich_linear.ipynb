{
 "cells": [
  {
   "cell_type": "code",
   "execution_count": 76,
   "metadata": {},
   "outputs": [],
   "source": [
    "#import các thu viện cần sử dụng\n",
    "import pandas as pd\n",
    "import numpy as np\n",
    "from sklearn.linear_model import LinearRegression #import model\n",
    "from sklearn.model_selection import train_test_split #import model trainning\n",
    "from sklearn.metrics import mean_squared_error #import model tính chỉ số của mô hình\n",
    "from sklearn.metrics import mean_absolute_error\n",
    "from sklearn.metrics import r2_score"
   ]
  },
  {
   "cell_type": "code",
   "execution_count": 43,
   "metadata": {},
   "outputs": [],
   "source": [
    "#đọc dữ liệu từ csv\n",
    "data_path = 'Data_Predict.csv'\n",
    "df = pd.read_csv(data_path)"
   ]
  },
  {
   "cell_type": "code",
   "execution_count": 44,
   "metadata": {},
   "outputs": [
    {
     "name": "stdout",
     "output_type": "stream",
     "text": [
      "<class 'pandas.core.frame.DataFrame'>\n",
      "RangeIndex: 56046 entries, 0 to 56045\n",
      "Data columns (total 17 columns):\n",
      " #   Column                 Non-Null Count  Dtype  \n",
      "---  ------                 --------------  -----  \n",
      " 0   OrderDate              56046 non-null  object \n",
      " 1   StockDate              56046 non-null  object \n",
      " 2   OrderNumber            56046 non-null  object \n",
      " 3   ProductKey             56046 non-null  int64  \n",
      " 4   CustomerKey            56046 non-null  int64  \n",
      " 5   TerritoryKey           56046 non-null  int64  \n",
      " 6   OrderLineItem          56046 non-null  int64  \n",
      " 7   OrderQuantity          56046 non-null  int64  \n",
      " 8   ProductSubcategoryKey  56046 non-null  int64  \n",
      " 9   ProductSKU             56046 non-null  object \n",
      " 10  ModelName              56046 non-null  object \n",
      " 11  ProductColor           29168 non-null  object \n",
      " 12  ProductSize            56046 non-null  object \n",
      " 13  ProductStyle           56046 non-null  object \n",
      " 14  ProductCost            56046 non-null  float64\n",
      " 15  ProductPrice           56046 non-null  float64\n",
      " 16  TotalRevenue           56046 non-null  float64\n",
      "dtypes: float64(3), int64(6), object(8)\n",
      "memory usage: 7.3+ MB\n"
     ]
    }
   ],
   "source": [
    "#kiểm tra thông tin dữ liệu\n",
    "df.info()"
   ]
  },
  {
   "cell_type": "code",
   "execution_count": 45,
   "metadata": {},
   "outputs": [],
   "source": [
    "#đổi kiểu dữ liệu từ object sang datetime\n",
    "df['OrderDate'] = df['OrderDate'].astype('datetime64[s]')"
   ]
  },
  {
   "cell_type": "code",
   "execution_count": 46,
   "metadata": {},
   "outputs": [],
   "source": [
    "#sắp xếp theo orderdate tăng dần\n",
    "df.sort_values(by='OrderDate', inplace=True)"
   ]
  },
  {
   "cell_type": "code",
   "execution_count": 47,
   "metadata": {},
   "outputs": [],
   "source": [
    "#Tạo độ trễ cho Model\n",
    "# Tạo cột Lag_1 (giá trị của ngày hôm trước)\n",
    "df['Lag_1'] = df['TotalRevenue'].shift(1)\n",
    "\n",
    "# Loại bỏ các hàng chứa giá trị NaN (do tạo độ trễ)\n",
    "df.dropna(inplace=True)"
   ]
  },
  {
   "cell_type": "code",
   "execution_count": null,
   "metadata": {},
   "outputs": [],
   "source": [
    "#Chia dữ liệu thành tập huấn luyện và kiểm tra\n",
    "# Chọn cột Lag_1 làm đặc trưng và Sales làm mục tiêu\n",
    "X = df[['Lag_1']]  # Đặc trưng\n",
    "y = df['TotalRevenue']    # Mục tiêu\n",
    "\n",
    "# Chia dữ liệu\n",
    "X_train, X_test, y_train, y_test = train_test_split(X, y, test_size=0.2, random_state=42)"
   ]
  },
  {
   "cell_type": "code",
   "execution_count": 77,
   "metadata": {},
   "outputs": [
    {
     "name": "stdout",
     "output_type": "stream",
     "text": [
      "R^2: 0.14205356045154938\n",
      "Mean Squared Error: 863071.1888034177\n",
      "Mean Absolute Error (MAE): 793.1707850574686\n",
      "Root Mean Squared Error (RMSE): 929.0162478683662\n"
     ]
    }
   ],
   "source": [
    "#Huấn luyện mô hình và dự đoán\n",
    "# Khởi tạo mô hình\n",
    "model = LinearRegression()\n",
    "\n",
    "# Huấn luyện\n",
    "model.fit(X_train, y_train)\n",
    "\n",
    "# Dự đoán\n",
    "y_pred = model.predict(X_test)\n",
    "\n",
    "# Đánh giá mô hình\n",
    "# Tính R^2\n",
    "r2 = r2_score(y_test, y_pred)\n",
    "print(\"R^2:\", r2)\n",
    "\n",
    "#Tính MSE\n",
    "mse = mean_squared_error(y_test, y_pred)\n",
    "print(\"Mean Squared Error:\", mse)\n",
    "\n",
    "# Tính MAE\n",
    "mae = mean_absolute_error(y_test, y_pred)\n",
    "print(\"Mean Absolute Error (MAE):\", mae)\n",
    "#Tính RMSE\n",
    "rmse = np.sqrt(mse)\n",
    "print(\"Root Mean Squared Error (RMSE):\", rmse)"
   ]
  },
  {
   "cell_type": "code",
   "execution_count": 57,
   "metadata": {},
   "outputs": [
    {
     "name": "stdout",
     "output_type": "stream",
     "text": [
      "Dự báo giá trị tiếp theo: 612.5616104002528\n"
     ]
    }
   ],
   "source": [
    "#Dự báo giá trị tiếp theo\n",
    "# Lấy giá trị cuối cùng làm độ trễ\n",
    "last_value = df['TotalRevenue'].iloc[-1]\n",
    "\n",
    "# Tạo DataFrame đầu vào với tên cột\n",
    "input_data = pd.DataFrame({'Lag_1': [last_value]})  # 'Lag_1' là tên cột trong mô hình\n",
    "\n",
    "# Dự đoán giá trị tiếp theo\n",
    "next_prediction = model.predict(input_data)\n",
    "print(\"Dự báo giá trị tiếp theo:\", next_prediction[0])"
   ]
  },
  {
   "cell_type": "code",
   "execution_count": 58,
   "metadata": {},
   "outputs": [
    {
     "data": {
      "text/plain": [
       "np.float64(63.5)"
      ]
     },
     "execution_count": 58,
     "metadata": {},
     "output_type": "execute_result"
    }
   ],
   "source": [
    "last_value"
   ]
  },
  {
   "cell_type": "code",
   "execution_count": 59,
   "metadata": {},
   "outputs": [
    {
     "data": {
      "text/html": [
       "<div>\n",
       "<style scoped>\n",
       "    .dataframe tbody tr th:only-of-type {\n",
       "        vertical-align: middle;\n",
       "    }\n",
       "\n",
       "    .dataframe tbody tr th {\n",
       "        vertical-align: top;\n",
       "    }\n",
       "\n",
       "    .dataframe thead th {\n",
       "        text-align: right;\n",
       "    }\n",
       "</style>\n",
       "<table border=\"1\" class=\"dataframe\">\n",
       "  <thead>\n",
       "    <tr style=\"text-align: right;\">\n",
       "      <th></th>\n",
       "      <th>Lag_1</th>\n",
       "    </tr>\n",
       "  </thead>\n",
       "  <tbody>\n",
       "    <tr>\n",
       "      <th>0</th>\n",
       "      <td>63.5</td>\n",
       "    </tr>\n",
       "  </tbody>\n",
       "</table>\n",
       "</div>"
      ],
      "text/plain": [
       "   Lag_1\n",
       "0   63.5"
      ]
     },
     "execution_count": 59,
     "metadata": {},
     "output_type": "execute_result"
    }
   ],
   "source": [
    "input_data"
   ]
  },
  {
   "cell_type": "code",
   "execution_count": 60,
   "metadata": {},
   "outputs": [],
   "source": [
    "import matplotlib.pyplot as plt"
   ]
  },
  {
   "cell_type": "code",
   "execution_count": 71,
   "metadata": {},
   "outputs": [
    {
     "data": {
      "image/png": "[encoded data removed]",
      "text/plain": [
       "<Figure size 1000x600 with 1 Axes>"
      ]
     },
     "metadata": {},
     "output_type": "display_data"
    }
   ],
   "source": [
    "# Vẽ biểu đồ\n",
    "plt.figure(figsize=(10, 6))\n",
    "plt.plot(df['OrderDate'], df['TotalRevenue'], label=\"Thực tế\", color=\"blue\")\n",
    "plt.plot(df['OrderDate'].iloc[-len(y_test):], y_pred, label=\"Dự đoán\", color=\"orange\", linestyle=\"--\")\n",
    "plt.xlabel(\"Thời gian\")\n",
    "plt.ylabel(\"Doanh số\")\n",
    "plt.title(\"So sánh dữ liệu thực tế và dự báo\")\n",
    "plt.legend()\n",
    "plt.show()"
   ]
  },
  {
   "cell_type": "code",
   "execution_count": null,
   "metadata": {},
   "outputs": [],
   "source": []
  }
 ],
 "metadata": {
  "kernelspec": {
   "display_name": "Python 3",
   "language": "python",
   "name": "python3"
  },
  "language_info": {
   "codemirror_mode": {
    "name": "ipython",
    "version": 3
   },
   "file_extension": ".py",
   "mimetype": "text/x-python",
   "name": "python",
   "nbconvert_exporter": "python",
   "pygments_lexer": "ipython3",
   "version": "3.13.0"
  }
 },
 "nbformat": 4,
 "nbformat_minor": 2
}
